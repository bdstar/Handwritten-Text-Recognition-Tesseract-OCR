{
  "nbformat": 4,
  "nbformat_minor": 0,
  "metadata": {
    "colab": {
      "name": "OCR.ipynb",
      "provenance": [],
      "collapsed_sections": []
    },
    "kernelspec": {
      "name": "python3",
      "display_name": "Python 3"
    }
  },
  "cells": [
    {
      "cell_type": "markdown",
      "metadata": {
        "id": "BqCcMwabEkx5",
        "colab_type": "text"
      },
      "source": [
        "## **OCR Using Pytesseract**\n",
        "You are viewing Aditya Raj's Notebook."
      ]
    },
    {
      "cell_type": "code",
      "metadata": {
        "id": "yndx_YFDP_YN",
        "colab_type": "code",
        "colab": {
          "base_uri": "https://localhost:8080/",
          "height": 50
        },
        "outputId": "4a35dbae-c772-40bb-c674-bd483cda5e8a"
      },
      "source": [
        "pip install opencv-python\n"
      ],
      "execution_count": null,
      "outputs": [
        {
          "output_type": "stream",
          "text": [
            "Requirement already satisfied: opencv-python in /usr/local/lib/python3.6/dist-packages (4.1.2.30)\n",
            "Requirement already satisfied: numpy>=1.11.3 in /usr/local/lib/python3.6/dist-packages (from opencv-python) (1.18.5)\n"
          ],
          "name": "stdout"
        }
      ]
    },
    {
      "cell_type": "code",
      "metadata": {
        "id": "jPDI2pbZQGAQ",
        "colab_type": "code",
        "colab": {}
      },
      "source": [
        "!sudo apt-get install tesseract-ocr"
      ],
      "execution_count": null,
      "outputs": []
    },
    {
      "cell_type": "code",
      "metadata": {
        "id": "AqC13iqSQW0d",
        "colab_type": "code",
        "colab": {}
      },
      "source": [
        "!sudo apt-get install libtesseract-dev"
      ],
      "execution_count": null,
      "outputs": []
    },
    {
      "cell_type": "code",
      "metadata": {
        "id": "eg3RN3A-QSAj",
        "colab_type": "code",
        "colab": {}
      },
      "source": [
        "pip install pytesseract"
      ],
      "execution_count": null,
      "outputs": []
    },
    {
      "cell_type": "code",
      "metadata": {
        "id": "O2P3_6piQvjO",
        "colab_type": "code",
        "colab": {}
      },
      "source": [
        "import cv2\n",
        "import numpy as np\n",
        "from google.colab import drive\n",
        "import pytesseract\n",
        "drive.mount('/content/gdrive')\n",
        "from google.colab.patches import cv2_imshow"
      ],
      "execution_count": null,
      "outputs": []
    },
    {
      "cell_type": "code",
      "metadata": {
        "id": "y881grozQ-Sq",
        "colab_type": "code",
        "colab": {
          "base_uri": "https://localhost:8080/",
          "height": 276
        },
        "outputId": "46db0949-08b2-48fe-86c8-193d22f25527"
      },
      "source": [
        "img = cv2.imread('gdrive/My Drive/tcsproject/test.jpg')\n",
        "img = cv2.cvtColor(img,cv2.COLOR_BGR2GRAY)\n",
        "reduced_noise = cv2.adaptiveThreshold(img,255,cv2.ADAPTIVE_THRESH_GAUSSIAN_C,cv2.THRESH_BINARY,11,12)\n",
        "cv2_imshow(reduced_noise)\n",
        "cv2.waitKey(0)\n",
        "print(\"\\nImage is loaded succesfully\")\n"
      ],
      "execution_count": 12,
      "outputs": [
        {
          "output_type": "display_data",
          "data": {
            "image/png": "[encoded data removed]",
            "text/plain": [
              "<PIL.Image.Image image mode=L size=225x225 at 0x7F451058C0B8>"
            ]
          },
          "metadata": {
            "tags": []
          }
        },
        {
          "output_type": "stream",
          "text": [
            "\n",
            "Image is loaded succesfully\n"
          ],
          "name": "stdout"
        }
      ]
    },
    {
      "cell_type": "code",
      "metadata": {
        "id": "Npz8jhBJS8ms",
        "colab_type": "code",
        "colab": {
          "base_uri": "https://localhost:8080/",
          "height": 185
        },
        "outputId": "0201f162-7292-406f-a511-492e29502f9d"
      },
      "source": [
        "text=pytesseract.image_to_string(reduced_noise,lang='eng')\n",
        "print(\"The text is :\\n\",text)"
      ],
      "execution_count": 13,
      "outputs": [
        {
          "output_type": "stream",
          "text": [
            "The text is :\n",
            " Some people need to\n",
            "enlarge web content\n",
            "in order to read it.\n",
            "Some need to\n",
            "change other\n",
            "aspects of text\n",
            "display: font, space\n",
            "between lines, and.\n",
            "more.\n"
          ],
          "name": "stdout"
        }
      ]
    },
    {
      "cell_type": "markdown",
      "metadata": {
        "id": "sDZC4y87Ejgg",
        "colab_type": "text"
      },
      "source": [
        ""
      ]
    },
    {
      "cell_type": "code",
      "metadata": {
        "id": "FWSvONsTS8l_",
        "colab_type": "code",
        "colab": {}
      },
      "source": [
        ""
      ],
      "execution_count": null,
      "outputs": []
    }
  ]
}